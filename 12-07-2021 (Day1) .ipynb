{
 "cells": [
  {
   "cell_type": "code",
   "execution_count": null,
   "metadata": {},
   "outputs": [],
   "source": [
    "# day objectives:\n",
    "- registration\n",
    "- oop's in python"
   ]
  },
  {
   "cell_type": "code",
   "execution_count": null,
   "metadata": {},
   "outputs": [],
   "source": [
    "# OOP's python:\n",
    "- Object Oriented Programming language\n",
    "- python is an object oriented programming langauge\n",
    "- class\n",
    "- object\n",
    "- constructors\n",
    "- inheritance\n",
    "- pacakges and modules using oop's"
   ]
  },
  {
   "cell_type": "code",
   "execution_count": null,
   "metadata": {},
   "outputs": [],
   "source": [
    "# class:\n",
    "- class is a design or blueprint\n",
    "- class is collection of objects\n",
    "ex: constructing a house\n",
    "    plan--->class\n",
    "    constructed house--->object\n",
    "- class is a collection of variables and methods.\n",
    "- variable: varaible is a memory location that holds values\n",
    "- function:it is a collection of statement\n",
    "- method: if function existed inside the class then it is called as method.\n",
    "#syn:\n",
    "class class_name:\n",
    "    list of varaibles\n",
    "    list of methods\n",
    "\n",
    "class--->keyword\n",
    "class_name: name of the class"
   ]
  },
  {
   "cell_type": "code",
   "execution_count": 1,
   "metadata": {},
   "outputs": [],
   "source": [
    "class Hii:\n",
    "    a=34.67\n",
    "    b=\"python\"    #variable\n",
    "    def hello():  #method\n",
    "        print(\"iam a method\")"
   ]
  },
  {
   "cell_type": "code",
   "execution_count": 2,
   "metadata": {},
   "outputs": [
    {
     "data": {
      "text/plain": [
       "34.67"
      ]
     },
     "execution_count": 2,
     "metadata": {},
     "output_type": "execute_result"
    }
   ],
   "source": [
    "Hii.a     #'.' is a message calling operators"
   ]
  },
  {
   "cell_type": "code",
   "execution_count": 3,
   "metadata": {},
   "outputs": [
    {
     "data": {
      "text/plain": [
       "'python'"
      ]
     },
     "execution_count": 3,
     "metadata": {},
     "output_type": "execute_result"
    }
   ],
   "source": [
    "Hii.b"
   ]
  },
  {
   "cell_type": "code",
   "execution_count": 4,
   "metadata": {},
   "outputs": [
    {
     "name": "stdout",
     "output_type": "stream",
     "text": [
      "iam a method\n"
     ]
    }
   ],
   "source": [
    "Hii.hello()"
   ]
  },
  {
   "cell_type": "code",
   "execution_count": null,
   "metadata": {},
   "outputs": [],
   "source": [
    "#object:\n",
    "- object is a instance of a class (sample copy of a class)\n",
    "- every object will have certain attributes and behaviour\n",
    "ex: human\n",
    "    (height,age,name)--->attributes--->variables\n",
    "    (drinking,dancing,eating)---->behaviour--->methods\n",
    "- object is real time entity.\n",
    "#syn:\n",
    "obj_name=class_name\n",
    "obj_name=class_name()"
   ]
  },
  {
   "cell_type": "code",
   "execution_count": 7,
   "metadata": {},
   "outputs": [
    {
     "name": "stdout",
     "output_type": "stream",
     "text": [
      "34.67\n",
      "python\n",
      "iam a method\n"
     ]
    }
   ],
   "source": [
    "class Hii:\n",
    "    a=34.67\n",
    "    b=\"python\"    #variable\n",
    "    def hello():  #method\n",
    "        print(\"iam a method\")\n",
    "obj=Hii\n",
    "print(obj.a)\n",
    "print(obj.b)\n",
    "obj.hello()"
   ]
  },
  {
   "cell_type": "code",
   "execution_count": 8,
   "metadata": {},
   "outputs": [
    {
     "name": "stdout",
     "output_type": "stream",
     "text": [
      "34.67\n",
      "python\n"
     ]
    },
    {
     "ename": "TypeError",
     "evalue": "hello() takes 0 positional arguments but 1 was given",
     "output_type": "error",
     "traceback": [
      "\u001b[1;31m---------------------------------------------------------------------------\u001b[0m",
      "\u001b[1;31mTypeError\u001b[0m                                 Traceback (most recent call last)",
      "\u001b[1;32m<ipython-input-8-0436045ff9de>\u001b[0m in \u001b[0;36m<module>\u001b[1;34m\u001b[0m\n\u001b[0;32m      7\u001b[0m \u001b[0mprint\u001b[0m\u001b[1;33m(\u001b[0m\u001b[0mobj\u001b[0m\u001b[1;33m.\u001b[0m\u001b[0ma\u001b[0m\u001b[1;33m)\u001b[0m\u001b[1;33m\u001b[0m\u001b[1;33m\u001b[0m\u001b[0m\n\u001b[0;32m      8\u001b[0m \u001b[0mprint\u001b[0m\u001b[1;33m(\u001b[0m\u001b[0mobj\u001b[0m\u001b[1;33m.\u001b[0m\u001b[0mb\u001b[0m\u001b[1;33m)\u001b[0m\u001b[1;33m\u001b[0m\u001b[1;33m\u001b[0m\u001b[0m\n\u001b[1;32m----> 9\u001b[1;33m \u001b[0mobj\u001b[0m\u001b[1;33m.\u001b[0m\u001b[0mhello\u001b[0m\u001b[1;33m(\u001b[0m\u001b[1;33m)\u001b[0m\u001b[1;33m\u001b[0m\u001b[1;33m\u001b[0m\u001b[0m\n\u001b[0m",
      "\u001b[1;31mTypeError\u001b[0m: hello() takes 0 positional arguments but 1 was given"
     ]
    }
   ],
   "source": [
    "class Hii:\n",
    "    a=34.67\n",
    "    b=\"python\"    #variable\n",
    "    def hello():  #method\n",
    "        print(\"iam a method\")\n",
    "obj=Hii()  #() treated as default parameter\n",
    "print(obj.a)\n",
    "print(obj.b)\n",
    "obj.hello()"
   ]
  },
  {
   "cell_type": "code",
   "execution_count": 10,
   "metadata": {},
   "outputs": [
    {
     "name": "stdout",
     "output_type": "stream",
     "text": [
      "34.67\n",
      "python\n",
      "iam a method\n"
     ]
    }
   ],
   "source": [
    "obj1=Hii  \n",
    "print(obj1.a)\n",
    "print(obj1.b)\n",
    "obj1.hello()"
   ]
  },
  {
   "cell_type": "code",
   "execution_count": null,
   "metadata": {},
   "outputs": [],
   "source": [
    "# for one class u can create multiple objects"
   ]
  },
  {
   "cell_type": "code",
   "execution_count": 15,
   "metadata": {},
   "outputs": [
    {
     "name": "stdout",
     "output_type": "stream",
     "text": [
      "30\n",
      "-66\n",
      "2800\n",
      "1.0256410256410255\n",
      "6.666666666666667\n"
     ]
    }
   ],
   "source": [
    "class calsi:\n",
    "    def add(a,b):\n",
    "        return a+b\n",
    "    def sub(a,b):\n",
    "        return a-b\n",
    "    def mul(a,b):\n",
    "        return a*b\n",
    "    def div(a,b):\n",
    "        return a/b\n",
    "    def mod(a,b):\n",
    "        return a%b\n",
    "cal=calsi  #() default parameter\n",
    "print(cal.add(10,20))\n",
    "print(cal.sub(23,89))\n",
    "print(cal.mul(40,70))\n",
    "print(cal.div(80,78))\n",
    "print(cal.div(20,3))"
   ]
  },
  {
   "cell_type": "code",
   "execution_count": 19,
   "metadata": {},
   "outputs": [
    {
     "name": "stdout",
     "output_type": "stream",
     "text": [
      "i5 16gb 1 tb\n"
     ]
    }
   ],
   "source": [
    "class computer:\n",
    "    def config(self):\n",
    "        print(\"i5\",'16gb','1 tb')\n",
    "com1=computer\n",
    "com1.config('pyt')"
   ]
  },
  {
   "cell_type": "code",
   "execution_count": 22,
   "metadata": {},
   "outputs": [
    {
     "name": "stdout",
     "output_type": "stream",
     "text": [
      "i5 16gb 1 tb\n"
     ]
    }
   ],
   "source": [
    "class computer:\n",
    "    def config(self):\n",
    "        print(\"i5\",'16gb','1 tb')\n",
    "com1=computer() #default parameter\n",
    "com1.config()"
   ]
  },
  {
   "cell_type": "code",
   "execution_count": null,
   "metadata": {},
   "outputs": [],
   "source": [
    "# constructors:\n",
    "- constructor is a special type method(function within a class)\n",
    "- which is used to initialize the instance members of a class\n",
    "- for creating constructor we will use __init__(self)\n",
    "- in constructor self parameter finds the current refernce object\n",
    "#syn:\n",
    "class classname:\n",
    "    def __init__(self):    #self is a default parameter\n",
    "    def __init__(self,a,b):  #self is  default parameter #first varaibles acts as a default parameter\n",
    "    def __init__(a,b,self):  #a is a default parameter"
   ]
  },
  {
   "cell_type": "code",
   "execution_count": 27,
   "metadata": {},
   "outputs": [],
   "source": [
    "class Com:\n",
    "    def __init__(self):\n",
    "        print(\"iam constructor\")\n",
    "    def config(self):\n",
    "        print(\"i5\",'16gb','1 tb')\n",
    "com1=Com"
   ]
  },
  {
   "cell_type": "code",
   "execution_count": 28,
   "metadata": {},
   "outputs": [
    {
     "name": "stdout",
     "output_type": "stream",
     "text": [
      "iam constructor\n",
      "i5 16gb 1 tb\n"
     ]
    }
   ],
   "source": [
    "class Com:\n",
    "    def __init__(self):\n",
    "        print(\"iam constructor\")\n",
    "    def config(self):\n",
    "        print(\"i5\",'16gb','1 tb')\n",
    "com1=Com()\n",
    "com1.config()"
   ]
  },
  {
   "cell_type": "code",
   "execution_count": null,
   "metadata": {},
   "outputs": [],
   "source": [
    "- if u use constructor u have to pass () in obj classname\n",
    "- if u call the class by default constructor also called"
   ]
  },
  {
   "cell_type": "code",
   "execution_count": 29,
   "metadata": {},
   "outputs": [
    {
     "name": "stdout",
     "output_type": "stream",
     "text": [
      "i5 16gb 1 tb\n"
     ]
    }
   ],
   "source": [
    "class Com:\n",
    "    def __init__(self):\n",
    "        print(\"iam constructor\")\n",
    "    def config(self):\n",
    "        print(\"i5\",'16gb','1 tb')\n",
    "com1=Com\n",
    "com1.config(5)"
   ]
  },
  {
   "cell_type": "code",
   "execution_count": 31,
   "metadata": {},
   "outputs": [
    {
     "name": "stdout",
     "output_type": "stream",
     "text": [
      "iam constructor\n",
      "i5 16gb 1 tb\n"
     ]
    }
   ],
   "source": [
    "class Com:\n",
    "    def __init__(self): #com1 #current reference object\n",
    "        print(\"iam constructor\")\n",
    "    def config(self):\n",
    "        print(\"i5\",'16gb','1 tb')\n",
    "com1=Com()\n",
    "com1.config()"
   ]
  },
  {
   "cell_type": "code",
   "execution_count": 32,
   "metadata": {},
   "outputs": [
    {
     "name": "stdout",
     "output_type": "stream",
     "text": [
      "iam constructor\n"
     ]
    }
   ],
   "source": [
    "com1.__init__()"
   ]
  },
  {
   "cell_type": "code",
   "execution_count": 33,
   "metadata": {},
   "outputs": [
    {
     "name": "stdout",
     "output_type": "stream",
     "text": [
      "iam constructor\n",
      "i5 16gb 1 tb\n"
     ]
    }
   ],
   "source": [
    "class Com:\n",
    "    def __init__(self): #ob #current reference object\n",
    "        print(\"iam constructor\")\n",
    "    def config(self):\n",
    "        print(\"i5\",'16gb','1 tb')\n",
    "ob=Com()\n",
    "ob.config()"
   ]
  },
  {
   "cell_type": "code",
   "execution_count": 42,
   "metadata": {},
   "outputs": [
    {
     "name": "stdout",
     "output_type": "stream",
     "text": [
      "i5 16\n"
     ]
    }
   ],
   "source": [
    "class Com:\n",
    "    def __init__(self,cpu,ram): #ob #current reference object\n",
    "        self.cpu=cpu\n",
    "        self.ram=ram\n",
    "    def config(self):\n",
    "        print(self.cpu,self.ram)\n",
    "ob=Com(\"i5\",16)\n",
    "ob.config()"
   ]
  },
  {
   "cell_type": "code",
   "execution_count": 38,
   "metadata": {},
   "outputs": [
    {
     "name": "stdout",
     "output_type": "stream",
     "text": [
      "ryzan3 8\n"
     ]
    }
   ],
   "source": [
    "ob1=Com('ryzan3',8) # #ob1 #current reference object\n",
    "ob1.config()"
   ]
  },
  {
   "cell_type": "code",
   "execution_count": 43,
   "metadata": {},
   "outputs": [
    {
     "name": "stdout",
     "output_type": "stream",
     "text": [
      "i5 16\n"
     ]
    }
   ],
   "source": [
    "class Com:\n",
    "    def __init__(cpu,ram,self): #ob #current reference object\n",
    "        cpu.ram=ram\n",
    "        cpu.self=self\n",
    "    def config(cpu):\n",
    "        print(cpu.ram,cpu.self)\n",
    "ob=Com(\"i5\",16)\n",
    "ob.config()"
   ]
  },
  {
   "cell_type": "code",
   "execution_count": 44,
   "metadata": {},
   "outputs": [],
   "source": [
    "class math:\n",
    "    def __init__(abc,v1,v2):\n",
    "        abc.v1=v1\n",
    "        abc.v2=v2\n",
    "    def show(abc):\n",
    "        print(abc.v1)\n",
    "        print(abc.v2)\n",
    "    def add(abc,v3):\n",
    "        print(abc.v1+abc.v2+v3)\n",
    "m=math(5,6) "
   ]
  },
  {
   "cell_type": "code",
   "execution_count": 45,
   "metadata": {},
   "outputs": [
    {
     "name": "stdout",
     "output_type": "stream",
     "text": [
      "5\n",
      "6\n"
     ]
    }
   ],
   "source": [
    "m.show()"
   ]
  },
  {
   "cell_type": "code",
   "execution_count": 46,
   "metadata": {},
   "outputs": [
    {
     "name": "stdout",
     "output_type": "stream",
     "text": [
      "15\n"
     ]
    }
   ],
   "source": [
    "m.add(4)"
   ]
  },
  {
   "cell_type": "code",
   "execution_count": null,
   "metadata": {},
   "outputs": [],
   "source": []
  },
  {
   "cell_type": "code",
   "execution_count": null,
   "metadata": {},
   "outputs": [],
   "source": [
    "#inheritance:\n",
    "- we can create a class which uses all the properties and behaviour of another calss\n",
    "- new class is called child,derived,sub class\n",
    "- the existing class is called parent,base,super class\n",
    "- re usability of code\n",
    "#syn:\n",
    "class parent_class:   #creating parent calss\n",
    "class child_class(parent_class):  #creating child class\n",
    "    \n",
    "#types:\n",
    "1)single (one parent,one child)\n",
    "2)multiple (2 parents,one child)\n",
    "3)multilevel (grandfather--->father--->child)\n",
    "4)heirarchical (1 parent,2 childern)\n",
    "5)hybrid (all inheritance)(multilevel+multiple)"
   ]
  },
  {
   "cell_type": "code",
   "execution_count": 50,
   "metadata": {},
   "outputs": [],
   "source": [
    "#1)single (one parent,one child)\n",
    "class Parent():\n",
    "    def A():\n",
    "        print('iam from parent')\n",
    "class Child(Parent):\n",
    "    def B():\n",
    "        print(\"iam from child\")"
   ]
  },
  {
   "cell_type": "code",
   "execution_count": 51,
   "metadata": {
    "scrolled": true
   },
   "outputs": [
    {
     "name": "stdout",
     "output_type": "stream",
     "text": [
      "iam from parent\n"
     ]
    },
    {
     "ename": "AttributeError",
     "evalue": "type object 'Parent' has no attribute 'B'",
     "output_type": "error",
     "traceback": [
      "\u001b[1;31m---------------------------------------------------------------------------\u001b[0m",
      "\u001b[1;31mAttributeError\u001b[0m                            Traceback (most recent call last)",
      "\u001b[1;32m<ipython-input-51-bd5e1df68322>\u001b[0m in \u001b[0;36m<module>\u001b[1;34m\u001b[0m\n\u001b[0;32m      1\u001b[0m \u001b[0mobj\u001b[0m\u001b[1;33m=\u001b[0m\u001b[0mParent\u001b[0m\u001b[1;33m\u001b[0m\u001b[1;33m\u001b[0m\u001b[0m\n\u001b[0;32m      2\u001b[0m \u001b[0mobj\u001b[0m\u001b[1;33m.\u001b[0m\u001b[0mA\u001b[0m\u001b[1;33m(\u001b[0m\u001b[1;33m)\u001b[0m\u001b[1;33m\u001b[0m\u001b[1;33m\u001b[0m\u001b[0m\n\u001b[1;32m----> 3\u001b[1;33m \u001b[0mobj\u001b[0m\u001b[1;33m.\u001b[0m\u001b[0mB\u001b[0m\u001b[1;33m(\u001b[0m\u001b[1;33m)\u001b[0m\u001b[1;33m\u001b[0m\u001b[1;33m\u001b[0m\u001b[0m\n\u001b[0m",
      "\u001b[1;31mAttributeError\u001b[0m: type object 'Parent' has no attribute 'B'"
     ]
    }
   ],
   "source": [
    "obj=Parent\n",
    "obj.A()\n",
    "obj.B()"
   ]
  },
  {
   "cell_type": "code",
   "execution_count": 53,
   "metadata": {},
   "outputs": [
    {
     "name": "stdout",
     "output_type": "stream",
     "text": [
      "iam from parent\n",
      "iam from child\n"
     ]
    }
   ],
   "source": [
    "obj1=Child\n",
    "obj1.A()\n",
    "obj1.B()"
   ]
  },
  {
   "cell_type": "code",
   "execution_count": 55,
   "metadata": {},
   "outputs": [
    {
     "name": "stdout",
     "output_type": "stream",
     "text": [
      "iam from mother\n",
      "iam from father\n",
      "iam from child\n"
     ]
    }
   ],
   "source": [
    "#2)multiple (2 parents,one child)\n",
    "class mother():\n",
    "    def A():\n",
    "        print('iam from mother')\n",
    "class father():\n",
    "    def B():\n",
    "        print('iam from father')\n",
    "class child(mother,father):\n",
    "    def C():\n",
    "        print('iam from child')\n",
    "obj=child\n",
    "obj.A()\n",
    "obj.B()\n",
    "obj.C()"
   ]
  },
  {
   "cell_type": "code",
   "execution_count": null,
   "metadata": {},
   "outputs": [],
   "source": [
    "#task:\n",
    "3)multilevel (grandfather--->father--->child)\n",
    "4)heirarchical (1 parent,2 childern)\n",
    "5)hybrid (all inheritance)(multilevel+multiple)"
   ]
  },
  {
   "cell_type": "markdown",
   "metadata": {},
   "source": [
    "Github link (For daily Jupyter Notebooks):\n",
    "https://github.com/AP-Skill-Development-Corporation/ANITS-Django-Workshop-12-07-2021-.git\n",
    "\n",
    "Recorded Videos(Daily):\n",
    "https://drive.google.com/drive/folders/1zQmEZ9qQQTtnCG8fkO82jDpGKQkkQH8T?usp=sharing"
   ]
  },
  {
   "cell_type": "markdown",
   "metadata": {},
   "source": [
    "install sublime text3:\n",
    "https://www.sublimetext.com/3"
   ]
  },
  {
   "cell_type": "markdown",
   "metadata": {},
   "source": [
    "Registration:\n",
    "http://engineering.apssdc.in/register/\n",
    "- **program type:** Workshops\n",
    "- **Program:** web developement using django 2021-22\n",
    "- **Course:** Pyhton"
   ]
  }
 ],
 "metadata": {
  "kernelspec": {
   "display_name": "Python 3",
   "language": "python",
   "name": "python3"
  },
  "language_info": {
   "codemirror_mode": {
    "name": "ipython",
    "version": 3
   },
   "file_extension": ".py",
   "mimetype": "text/x-python",
   "name": "python",
   "nbconvert_exporter": "python",
   "pygments_lexer": "ipython3",
   "version": "3.7.3"
  }
 },
 "nbformat": 4,
 "nbformat_minor": 2
}
