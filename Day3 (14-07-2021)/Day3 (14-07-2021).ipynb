{
 "cells": [
  {
   "cell_type": "code",
   "execution_count": null,
   "metadata": {},
   "outputs": [],
   "source": [
    "# Day objectives:\n",
    "- url mapping,static url,dynamic url\n",
    "- interface between urls.py and views.py files\n",
    "- http response"
   ]
  },
  {
   "cell_type": "code",
   "execution_count": null,
   "metadata": {},
   "outputs": [],
   "source": [
    "                                             ---->models.py\n",
    "user--->django---->url.py (project)---->views.py(app)\n",
    "                                          ----->templates(html files)"
   ]
  },
  {
   "cell_type": "code",
   "execution_count": null,
   "metadata": {},
   "outputs": [],
   "source": [
    "#url mapping:\n",
    "in django,we use url configuration to set a url"
   ]
  },
  {
   "cell_type": "code",
   "execution_count": null,
   "metadata": {},
   "outputs": [],
   "source": [
    "projectname--->anitsproject\n",
    "appname----->anitsapp"
   ]
  },
  {
   "cell_type": "code",
   "execution_count": null,
   "metadata": {},
   "outputs": [],
   "source": [
    "2 types of urls:\n",
    "    1)static urls(a=30,b=90)\n",
    "    2)dynamic urls (userinputs)"
   ]
  },
  {
   "cell_type": "code",
   "execution_count": null,
   "metadata": {},
   "outputs": [],
   "source": [
    "httpresponse---->based userrequest it will print"
   ]
  },
  {
   "cell_type": "code",
   "execution_count": null,
   "metadata": {},
   "outputs": [],
   "source": [
    "urls.py:\n",
    "from myapp import views\n",
    "path('static',views.static,name=\"static\"),\n",
    "path('dynamicstr/<str:name>',views.dynamicstr,name=\"dynamicstr\"),"
   ]
  },
  {
   "cell_type": "code",
   "execution_count": null,
   "metadata": {},
   "outputs": [],
   "source": [
    "views.py:\n",
    "from django.http import HttpResponse\n",
    "\n",
    "def static(request):\n",
    "    return HttpResponse(\"this is static page\")\n",
    "\n",
    "def dynamicstr(request,name):\n",
    "    return HttpResponse(\"your name is :\"+name)"
   ]
  },
  {
   "cell_type": "code",
   "execution_count": null,
   "metadata": {},
   "outputs": [],
   "source": []
  }
 ],
 "metadata": {
  "kernelspec": {
   "display_name": "Python 3",
   "language": "python",
   "name": "python3"
  },
  "language_info": {
   "codemirror_mode": {
    "name": "ipython",
    "version": 3
   },
   "file_extension": ".py",
   "mimetype": "text/x-python",
   "name": "python",
   "nbconvert_exporter": "python",
   "pygments_lexer": "ipython3",
   "version": "3.7.3"
  }
 },
 "nbformat": 4,
 "nbformat_minor": 2
}
