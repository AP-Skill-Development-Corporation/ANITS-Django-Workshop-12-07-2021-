{
 "cells": [
  {
   "cell_type": "code",
   "execution_count": 8,
   "metadata": {},
   "outputs": [
    {
     "name": "stdout",
     "output_type": "stream",
     "text": [
      "iam from grandfather\n",
      "iam from father\n",
      "iam from son\n"
     ]
    }
   ],
   "source": [
    "#tasks:\n",
    "#3)multilevel inheritance:(grandfather--->father--->son)\n",
    "class grandfather():\n",
    "    def A():\n",
    "        print('iam from grandfather')\n",
    "class father(grandfather):\n",
    "    def B():\n",
    "        print('iam from father')\n",
    "class son(father):\n",
    "    def C():\n",
    "        print('iam from son')\n",
    "obj=son\n",
    "obj.A()\n",
    "obj.B()\n",
    "obj.C()"
   ]
  },
  {
   "cell_type": "code",
   "execution_count": 10,
   "metadata": {},
   "outputs": [
    {
     "name": "stdout",
     "output_type": "stream",
     "text": [
      "iam from parent\n",
      "iam from child1\n",
      "iam from child2\n",
      "iam from parent\n"
     ]
    }
   ],
   "source": [
    "#4)heirarchical (1 parent,2 childern)\n",
    "class parent():\n",
    "    def A():\n",
    "        print('iam from parent')\n",
    "class child1(parent):\n",
    "    def B():\n",
    "        print('iam from child1')\n",
    "class child2(parent):\n",
    "    def C():\n",
    "        print('iam from child2')\n",
    "obj=child1\n",
    "obj.A()\n",
    "obj.B()\n",
    "obj1=child2\n",
    "obj1.C()\n",
    "obj1.A()"
   ]
  },
  {
   "cell_type": "code",
   "execution_count": 6,
   "metadata": {},
   "outputs": [
    {
     "name": "stdout",
     "output_type": "stream",
     "text": [
      "iam from parent1\n",
      "iam from parent 2\n",
      "iam from child(grandfather_child)\n",
      "iam from father\n",
      "iam from son\n"
     ]
    }
   ],
   "source": [
    "#5)hybrid (all inheritance)(multilevel+multiple)\n",
    "# multilevel--->grand father--->father--->son\n",
    "# multiple---->father,mother---->child\n",
    "class parent1:\n",
    "    def hii():\n",
    "        print(\"iam from parent1\")\n",
    "class parent2:\n",
    "    def hello():\n",
    "        print(\"iam from parent 2\")\n",
    "class grandfather_child(parent1,parent2):\n",
    "    def show():\n",
    "        print(\"iam from child(grandfather_child)\")\n",
    "class father(grandfather_child):\n",
    "    def display():\n",
    "        print(\"iam from father\") \n",
    "class son(father):\n",
    "    def apssdc():\n",
    "        print(\"iam from son\") \n",
    "        \n",
    "obj=son\n",
    "obj.hii()\n",
    "obj.hello()\n",
    "obj.show()\n",
    "obj.display()\n",
    "obj.apssdc()"
   ]
  },
  {
   "cell_type": "code",
   "execution_count": null,
   "metadata": {},
   "outputs": [],
   "source": [
    "#packages and modules using oop's:\n",
    "- module: collection of function/classes (.py file)\n",
    "- package: collection of modules . (folder/directory)"
   ]
  },
  {
   "cell_type": "code",
   "execution_count": null,
   "metadata": {},
   "outputs": [],
   "source": [
    "folder(packages)---->module.py---->classes"
   ]
  },
  {
   "cell_type": "code",
   "execution_count": 12,
   "metadata": {},
   "outputs": [
    {
     "name": "stdout",
     "output_type": "stream",
     "text": [
      "12\n",
      "30\n",
      "53\n"
     ]
    }
   ],
   "source": [
    "from packages.module import math\n",
    "obj=math(12,30)\n",
    "obj.show()\n",
    "obj.add(11)"
   ]
  },
  {
   "cell_type": "code",
   "execution_count": null,
   "metadata": {},
   "outputs": [],
   "source": []
  },
  {
   "cell_type": "code",
   "execution_count": null,
   "metadata": {},
   "outputs": [],
   "source": [
    "# softwares for django\n",
    "1)python (mandatory)\n",
    "2)sublime/pycharm/visualstudio -https://www.sublimetext.com/3"
   ]
  },
  {
   "cell_type": "code",
   "execution_count": null,
   "metadata": {},
   "outputs": [],
   "source": [
    "- more than 3.5 version\n",
    "- python path\n",
    "- pip"
   ]
  },
  {
   "cell_type": "code",
   "execution_count": null,
   "metadata": {},
   "outputs": [],
   "source": [
    "pip install django\n",
    "pip install django==3.0.7\n",
    "\n",
    "django-admin --version\n",
    "\n",
    "django-admin startproject projectname\n",
    "django-admin startproject myproject"
   ]
  },
  {
   "cell_type": "markdown",
   "metadata": {},
   "source": [
    "manage.py---->we can execute various django commands such as running the server,running our project,we can creat app,superuser. it is used to manage or interact with project\n",
    "\n",
    "__init__.py--->it is an empty python file that is used to consider that directory as a python packages\n",
    "\n",
    "asgi.py--->asynchronous server gateway interface--->for deploying\n",
    "\n",
    "settings.py---->settings/configuration for django projects,app,templetes,static,database,deployment\n",
    "\n",
    "urls.py--->url declaration for django project\n",
    "\n",
    "wsgi.py---->web server gateway interface,deploying"
   ]
  },
  {
   "cell_type": "code",
   "execution_count": null,
   "metadata": {},
   "outputs": [],
   "source": [
    "python manage.py runserver   (cntl+c)\n",
    " localhost:8000\n",
    "\n",
    "\n",
    "python manage.py startapp appname\n",
    "python manage.py startapp anitsapp"
   ]
  },
  {
   "cell_type": "code",
   "execution_count": null,
   "metadata": {},
   "outputs": [],
   "source": [
    "migartions---->it will handle all db connections\n",
    "__init__.py---->that app considered as python file\n",
    "admin.py--->by using this file we will give permission to admin to accesss our models\n",
    "app.py--- see app info\n",
    "models.py---> we will write all db connections\n",
    "test.py--->we are using this file for testing\n",
    "views.py--->like controller between models and templates"
   ]
  },
  {
   "cell_type": "code",
   "execution_count": null,
   "metadata": {},
   "outputs": [],
   "source": [
    "configure ur app in settings.py in installed apps"
   ]
  }
 ],
 "metadata": {
  "kernelspec": {
   "display_name": "Python 3",
   "language": "python",
   "name": "python3"
  },
  "language_info": {
   "codemirror_mode": {
    "name": "ipython",
    "version": 3
   },
   "file_extension": ".py",
   "mimetype": "text/x-python",
   "name": "python",
   "nbconvert_exporter": "python",
   "pygments_lexer": "ipython3",
   "version": "3.7.3"
  }
 },
 "nbformat": 4,
 "nbformat_minor": 2
}
